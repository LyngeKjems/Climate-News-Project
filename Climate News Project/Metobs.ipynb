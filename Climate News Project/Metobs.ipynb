{
 "cells": [
  {
   "cell_type": "code",
   "execution_count": 17,
   "metadata": {},
   "outputs": [],
   "source": [
    "import requests # library for making HTTP requests\n",
    "import pandas as pd # library for data analysis\n",
    "import datetime as dt # library for handling date and time objects"
   ]
  },
  {
   "cell_type": "code",
   "execution_count": 18,
   "metadata": {},
   "outputs": [],
   "source": [
    "api_key = 'd4674009-58d0-466e-8687-7fb33cbc9a09' # insert your own key between the '' signs"
   ]
  },
  {
   "cell_type": "code",
   "execution_count": 19,
   "metadata": {},
   "outputs": [
    {
     "name": "stdout",
     "output_type": "stream",
     "text": [
      "<Response [200]>\n"
     ]
    }
   ],
   "source": [
    "DMI_URL = 'https://dmigw.govcloud.dk/v2/metObs/collections/observation/items'\n",
    "r = requests.get(DMI_URL, params={'api-key': api_key}) # Issues a HTTP GET request\n",
    "print(r)"
   ]
  },
  {
   "cell_type": "code",
   "execution_count": 20,
   "metadata": {},
   "outputs": [
    {
     "name": "stdout",
     "output_type": "stream",
     "text": [
      "dict_keys(['type', 'features', 'timeStamp', 'numberReturned', 'links'])\n"
     ]
    }
   ],
   "source": [
    "json = r.json()  # Extract JSON data\n",
    "print(json.keys())  # Print the keys of the JSON dictionary"
   ]
  },
  {
   "cell_type": "code",
   "execution_count": 21,
   "metadata": {},
   "outputs": [
    {
     "data": {
      "text/plain": [
       "[{'geometry': {'coordinates': [8.0828, 55.5575], 'type': 'Point'},\n",
       "  'id': '00000001-30ad-ae74-5b33-7ef0a1a6ef92',\n",
       "  'type': 'Feature',\n",
       "  'properties': {'created': '2023-01-27T02:22:21.068515Z',\n",
       "   'observed': '2015-09-11T10:10:00Z',\n",
       "   'parameterId': 'temp_dew',\n",
       "   'stationId': '06081',\n",
       "   'value': 11.4}},\n",
       " {'geometry': {'coordinates': [11.3879, 55.3224], 'type': 'Point'},\n",
       "  'id': '00000005-79f9-4ab8-6905-bec39ce37f54',\n",
       "  'type': 'Feature',\n",
       "  'properties': {'created': '2023-01-26T12:15:14.224544Z',\n",
       "   'observed': '2010-08-10T03:30:00Z',\n",
       "   'parameterId': 'humidity',\n",
       "   'stationId': '06135',\n",
       "   'value': 100.0}}]"
      ]
     },
     "execution_count": 21,
     "metadata": {},
     "output_type": "execute_result"
    }
   ],
   "source": [
    "json['features'][:2]"
   ]
  },
  {
   "cell_type": "code",
   "execution_count": 24,
   "metadata": {},
   "outputs": [
    {
     "data": {
      "text/html": [
       "<div>\n",
       "<style scoped>\n",
       "    .dataframe tbody tr th:only-of-type {\n",
       "        vertical-align: middle;\n",
       "    }\n",
       "\n",
       "    .dataframe tbody tr th {\n",
       "        vertical-align: top;\n",
       "    }\n",
       "\n",
       "    .dataframe thead th {\n",
       "        text-align: right;\n",
       "    }\n",
       "</style>\n",
       "<table border=\"1\" class=\"dataframe\">\n",
       "  <thead>\n",
       "    <tr style=\"text-align: right;\">\n",
       "      <th></th>\n",
       "      <th>id</th>\n",
       "      <th>type</th>\n",
       "      <th>geometry.coordinates</th>\n",
       "      <th>geometry.type</th>\n",
       "      <th>properties.created</th>\n",
       "      <th>properties.observed</th>\n",
       "      <th>properties.parameterId</th>\n",
       "      <th>properties.stationId</th>\n",
       "      <th>properties.value</th>\n",
       "      <th>geometry</th>\n",
       "    </tr>\n",
       "  </thead>\n",
       "  <tbody>\n",
       "    <tr>\n",
       "      <th>0</th>\n",
       "      <td>00000001-30ad-ae74-5b33-7ef0a1a6ef92</td>\n",
       "      <td>Feature</td>\n",
       "      <td>[8.0828, 55.5575]</td>\n",
       "      <td>Point</td>\n",
       "      <td>2023-01-27T02:22:21.068515Z</td>\n",
       "      <td>2015-09-11T10:10:00Z</td>\n",
       "      <td>temp_dew</td>\n",
       "      <td>06081</td>\n",
       "      <td>11.4</td>\n",
       "      <td>NaN</td>\n",
       "    </tr>\n",
       "    <tr>\n",
       "      <th>1</th>\n",
       "      <td>00000005-79f9-4ab8-6905-bec39ce37f54</td>\n",
       "      <td>Feature</td>\n",
       "      <td>[11.3879, 55.3224]</td>\n",
       "      <td>Point</td>\n",
       "      <td>2023-01-26T12:15:14.224544Z</td>\n",
       "      <td>2010-08-10T03:30:00Z</td>\n",
       "      <td>humidity</td>\n",
       "      <td>06135</td>\n",
       "      <td>100.0</td>\n",
       "      <td>NaN</td>\n",
       "    </tr>\n",
       "    <tr>\n",
       "      <th>2</th>\n",
       "      <td>00000006-ffbe-6f2f-fe2a-4ed40a6fa65a</td>\n",
       "      <td>Feature</td>\n",
       "      <td>NaN</td>\n",
       "      <td>NaN</td>\n",
       "      <td>2023-01-27T07:26:00.823125Z</td>\n",
       "      <td>1960-12-16T06:00:00Z</td>\n",
       "      <td>cloud_cover</td>\n",
       "      <td>06190</td>\n",
       "      <td>100.0</td>\n",
       "      <td>NaN</td>\n",
       "    </tr>\n",
       "    <tr>\n",
       "      <th>3</th>\n",
       "      <td>0000000e-638e-5ce8-2dab-0a16387eb3e9</td>\n",
       "      <td>Feature</td>\n",
       "      <td>[8.6705, 56.383]</td>\n",
       "      <td>Point</td>\n",
       "      <td>2023-01-26T22:27:00.328184Z</td>\n",
       "      <td>2005-08-22T06:00:00Z</td>\n",
       "      <td>temp_max_past12h</td>\n",
       "      <td>06056</td>\n",
       "      <td>16.6</td>\n",
       "      <td>NaN</td>\n",
       "    </tr>\n",
       "    <tr>\n",
       "      <th>4</th>\n",
       "      <td>0000000e-fa0d-c953-0901-0856867a22bb</td>\n",
       "      <td>Feature</td>\n",
       "      <td>[11.6035, 55.7358]</td>\n",
       "      <td>Point</td>\n",
       "      <td>2023-01-26T13:25:14.679006Z</td>\n",
       "      <td>2014-04-08T17:10:00Z</td>\n",
       "      <td>pressure_at_sea</td>\n",
       "      <td>06156</td>\n",
       "      <td>1006.3</td>\n",
       "      <td>NaN</td>\n",
       "    </tr>\n",
       "  </tbody>\n",
       "</table>\n",
       "</div>"
      ],
      "text/plain": [
       "                                     id     type geometry.coordinates  \\\n",
       "0  00000001-30ad-ae74-5b33-7ef0a1a6ef92  Feature    [8.0828, 55.5575]   \n",
       "1  00000005-79f9-4ab8-6905-bec39ce37f54  Feature   [11.3879, 55.3224]   \n",
       "2  00000006-ffbe-6f2f-fe2a-4ed40a6fa65a  Feature                  NaN   \n",
       "3  0000000e-638e-5ce8-2dab-0a16387eb3e9  Feature     [8.6705, 56.383]   \n",
       "4  0000000e-fa0d-c953-0901-0856867a22bb  Feature   [11.6035, 55.7358]   \n",
       "\n",
       "  geometry.type           properties.created   properties.observed  \\\n",
       "0         Point  2023-01-27T02:22:21.068515Z  2015-09-11T10:10:00Z   \n",
       "1         Point  2023-01-26T12:15:14.224544Z  2010-08-10T03:30:00Z   \n",
       "2           NaN  2023-01-27T07:26:00.823125Z  1960-12-16T06:00:00Z   \n",
       "3         Point  2023-01-26T22:27:00.328184Z  2005-08-22T06:00:00Z   \n",
       "4         Point  2023-01-26T13:25:14.679006Z  2014-04-08T17:10:00Z   \n",
       "\n",
       "  properties.parameterId properties.stationId  properties.value  geometry  \n",
       "0               temp_dew                06081              11.4       NaN  \n",
       "1               humidity                06135             100.0       NaN  \n",
       "2            cloud_cover                06190             100.0       NaN  \n",
       "3       temp_max_past12h                06056              16.6       NaN  \n",
       "4        pressure_at_sea                06156            1006.3       NaN  "
      ]
     },
     "execution_count": 24,
     "metadata": {},
     "output_type": "execute_result"
    }
   ],
   "source": [
    "df = pd.json_normalize(json['features'])  # Convert JSON object to a Pandas DataFrame\n",
    "df.head()  # Print the first five rows of the DataFrame"
   ]
  },
  {
   "cell_type": "code",
   "execution_count": 25,
   "metadata": {},
   "outputs": [
    {
     "data": {
      "text/plain": [
       "1000"
      ]
     },
     "execution_count": 25,
     "metadata": {},
     "output_type": "execute_result"
    }
   ],
   "source": [
    "df.shape[0]"
   ]
  },
  {
   "cell_type": "code",
   "execution_count": null,
   "metadata": {},
   "outputs": [],
   "source": []
  }
 ],
 "metadata": {
  "kernelspec": {
   "display_name": "base",
   "language": "python",
   "name": "python3"
  },
  "language_info": {
   "codemirror_mode": {
    "name": "ipython",
    "version": 3
   },
   "file_extension": ".py",
   "mimetype": "text/x-python",
   "name": "python",
   "nbconvert_exporter": "python",
   "pygments_lexer": "ipython3",
   "version": "3.8.8"
  },
  "orig_nbformat": 4
 },
 "nbformat": 4,
 "nbformat_minor": 2
}
